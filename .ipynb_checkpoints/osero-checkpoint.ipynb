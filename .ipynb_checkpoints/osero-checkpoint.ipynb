{
 "cells": [
  {
   "cell_type": "code",
   "execution_count": 7,
   "metadata": {
    "collapsed": false
   },
   "outputs": [],
   "source": [
    "# 神導入\n",
    "import numpy as np\n",
    "from IPython.display import clear_output\n",
    "\n",
    "class Othello():\n",
    "    def __init__(self):\n",
    "        # 8*8盤面、0は石ない、１は黒、２は白\n",
    "        board = np.zeros((8, 8))\n",
    "        board[3][3] = board[4][4] = 1\n",
    "        board[3][4] = board[4][3] = 2\n",
    "        self.board = board\n",
    "        self.player = 1\n",
    "        self.pass_count = 0\n",
    "        \n",
    "    def game(self):\n",
    "        while True:\n",
    "            self.can()\n",
    "            self.show()\n",
    "            if len(self.board[self.board == 3]) == 0:\n",
    "                print(\"player{}置く場所ないで。\".format(self.player))\n",
    "                self.pass_count += 1\n",
    "            else:\n",
    "                print(\"player{}の番な。\".format(self.player))\n",
    "                self.put()\n",
    "                self.pass_count = 0\n",
    "            if self.player == 1:\n",
    "                self.player = 2\n",
    "            else:\n",
    "                self.player = 1\n",
    "    \n",
    "            if self.pass_count == 2:\n",
    "                stone_1 = len(self.board[self.board == 1])\n",
    "                stone_2 = len(self.board[self.board == 2])\n",
    "                if stone_1 < stone_2:\n",
    "                    print(\"終わりやで、{}対{}でplayer２の勝ち。\".format(stone_1, stone_2))\n",
    "                elif stone_1 > stone_2:\n",
    "                    print(\"終わりやで、{}対{}でplayer1の勝ち。\".format(stone_1, stone_2))\n",
    "                else:\n",
    "                    print(\"終わりやで、{}対{}で引き分けです。\".format(stone_1, stone_2))\n",
    "                break\n",
    "            # 前の表示を消してから次の画面を出す\n",
    "            clear_output()\n",
    "            self.can()\n",
    "            self.show()\n",
    "                    \n",
    "    # 0は□、１は●、２は◯、３は◎\n",
    "    def show(self):\n",
    "        symbol = [\"□\", \"●\", \"○\", \"◎\"]\n",
    "        print(\"{:<2}\".format(\"\"), end = \"\")\n",
    "        for x in range(8):\n",
    "            print(\"{:<4}\".format(chr(x + 97)), end = \"\")\n",
    "        print(\"\")\n",
    "        for y in range(8):\n",
    "            print(\"{:<2}\".format(y + 1), end = \"\")\n",
    "            for x in range(8):\n",
    "                print(\"{:<2}\".format(symbol[int(self.board[y][x])]), end = \"\")\n",
    "            print(\"\")\n",
    "            \n",
    "                     # x,y座標を超えたらもっかい入れ直し\n",
    "    def put(self):\n",
    "        while True:\n",
    "            xy = input(\"xy → \")\n",
    "            lowercase = [chr(i) for i in range(97, 105)]\n",
    "            xy = str(lowercase.index(xy[0])) + str(int(xy[1]) - 1)\n",
    "            x = int(xy[0])\n",
    "            y = int(xy[1])\n",
    "            if (x >= 0) or (x <= 7) or (y >= 0) or (y <= 7):\n",
    "                break\n",
    "# 全部ひっくり返す\n",
    "        DX = [1, 1, 0, -1, -1, -1, 0, 1]\n",
    "        DY = [0, 1, 1, 1, 0, -1, -1, -1]\n",
    "        for (dx, dy) in zip(DX, DY):\n",
    "        \n",
    "    # 座標いじる\n",
    "            i = 1\n",
    "            count = 1\n",
    "            while True:\n",
    "        #範囲超えたとき\n",
    "                if (x + dx * i < 0) or (x + dx * i > 7) or (y + dy * i < 0) or (y + dy * i > 7):\n",
    "                    count = 1\n",
    "                    break\n",
    "        # 石がないとき\n",
    "                if self.board[y + dy * i][x + dx * i] == 0:\n",
    "                    count = 1\n",
    "                    break\n",
    "        # 逆の石があればcount増やして次行く\n",
    "                if self.board[y + dy * i][x + dx * i] != self.player:\n",
    "                    count += 1\n",
    "        # 自分の石なら終わり\n",
    "                if self.board[y + dy * i][x + dx * i] == self.player:\n",
    "                    break\n",
    "                i += 1\n",
    "    # count反映\n",
    "            for i in range(count):\n",
    "                self.board[y + dy * i][x + dx * i] = self.player\n",
    "        return self.board\n",
    "            \n",
    "        # 置けるとこの表示\n",
    "    def can(self):\n",
    "        for y in range(8):\n",
    "            for x in range(8):\n",
    "                if self.board[y][x] == 3:\n",
    "                    self.board[y][x] = 0\n",
    "                if self.board[y][x] == 0:\n",
    "                    DX = [1, 1, 0, -1, -1, -1, 0, 1]\n",
    "                    DY = [0, 1, 1, 1, 0, -1, -1, -1]\n",
    "                    for (dx, dy) in zip(DX, DY):\n",
    "        \n",
    "    # 座標いじる\n",
    "                        i = 1\n",
    "                        count = 1\n",
    "                        while True:\n",
    "        #範囲超えたとき\n",
    "                            if (x + dx * i < 0) or (x + dx * i > 7) or (y + dy * i < 0) or (y + dy * i > 7):\n",
    "                                count = 1\n",
    "                                break\n",
    "        # 石がないとき\n",
    "                            if (self.board[y + dy * i][x + dx * i] == 0) or (self.board[y + dy * i][x + dx * i] == 3):\n",
    "                                count = 1\n",
    "                                break\n",
    "        # 逆の石があればcount増やして次行く\n",
    "                            if self.board[y + dy * i][x + dx * i] != self.player:\n",
    "                                count += 1\n",
    "        # 自分の石なら終わり\n",
    "                            if self.board[y + dy * i][x + dx * i] == self.player:\n",
    "                                break\n",
    "                            i += 1\n",
    "                        if count >= 2:\n",
    "                            self.board[y][x] = 3\n",
    "        return self.board"
   ]
  },
  {
   "cell_type": "code",
   "execution_count": null,
   "metadata": {
    "collapsed": false
   },
   "outputs": [
    {
     "name": "stdout",
     "output_type": "stream",
     "text": [
      "  a   b   c   d   e   f   g   h   \n",
      "1 □ □ □ □ □ □ □ □ \n",
      "2 □ □ □ □ □ □ □ □ \n",
      "3 □ □ □ □ ◎ □ □ □ \n",
      "4 □ □ □ ● ○ ◎ □ □ \n",
      "5 □ □ ◎ ○ ● □ □ □ \n",
      "6 □ □ □ ◎ □ □ □ □ \n",
      "7 □ □ □ □ □ □ □ □ \n",
      "8 □ □ □ □ □ □ □ □ \n",
      "player1の番な。\n"
     ]
    }
   ],
   "source": [
    "Othello().game()"
   ]
  },
  {
   "cell_type": "raw",
   "metadata": {},
   "source": []
  },
  {
   "cell_type": "code",
   "execution_count": null,
   "metadata": {
    "collapsed": false
   },
   "outputs": [],
   "source": []
  },
  {
   "cell_type": "code",
   "execution_count": null,
   "metadata": {
    "collapsed": false
   },
   "outputs": [],
   "source": []
  },
  {
   "cell_type": "code",
   "execution_count": null,
   "metadata": {
    "collapsed": true
   },
   "outputs": [],
   "source": []
  },
  {
   "cell_type": "code",
   "execution_count": null,
   "metadata": {
    "collapsed": true
   },
   "outputs": [],
   "source": []
  },
  {
   "cell_type": "code",
   "execution_count": null,
   "metadata": {
    "collapsed": true
   },
   "outputs": [],
   "source": []
  },
  {
   "cell_type": "code",
   "execution_count": null,
   "metadata": {
    "collapsed": false
   },
   "outputs": [],
   "source": []
  },
  {
   "cell_type": "code",
   "execution_count": null,
   "metadata": {
    "collapsed": true
   },
   "outputs": [],
   "source": []
  },
  {
   "cell_type": "code",
   "execution_count": null,
   "metadata": {
    "collapsed": true
   },
   "outputs": [],
   "source": []
  },
  {
   "cell_type": "code",
   "execution_count": null,
   "metadata": {
    "collapsed": false
   },
   "outputs": [],
   "source": []
  },
  {
   "cell_type": "code",
   "execution_count": null,
   "metadata": {
    "collapsed": false
   },
   "outputs": [],
   "source": []
  },
  {
   "cell_type": "code",
   "execution_count": null,
   "metadata": {
    "collapsed": true
   },
   "outputs": [],
   "source": []
  },
  {
   "cell_type": "code",
   "execution_count": null,
   "metadata": {
    "collapsed": true
   },
   "outputs": [],
   "source": []
  },
  {
   "cell_type": "code",
   "execution_count": null,
   "metadata": {
    "collapsed": true
   },
   "outputs": [],
   "source": []
  }
 ],
 "metadata": {
  "kernelspec": {
   "display_name": "Python 3",
   "language": "python",
   "name": "python3"
  },
  "language_info": {
   "codemirror_mode": {
    "name": "ipython",
    "version": 3
   },
   "file_extension": ".py",
   "mimetype": "text/x-python",
   "name": "python",
   "nbconvert_exporter": "python",
   "pygments_lexer": "ipython3",
   "version": "3.6.0"
  }
 },
 "nbformat": 4,
 "nbformat_minor": 2
}
