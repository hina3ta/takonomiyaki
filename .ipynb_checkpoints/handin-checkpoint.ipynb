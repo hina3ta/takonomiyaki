{
 "cells": [
  {
   "cell_type": "code",
   "execution_count": 7,
   "metadata": {
    "collapsed": false
   },
   "outputs": [
    {
     "name": "stdout",
     "output_type": "stream",
     "text": [
      "２つの数を計算するで\n",
      "１つ目の数字は？：3\n",
      "二つ目の数字は？：0\n",
      "足すなら0、引くなら1、かけるなら2、割るなら3　を入力して。3\n",
      "それはあかん\n"
     ]
    }
   ],
   "source": [
    "print(\"２つの数を計算するで\")\n",
    "a = float(input (\"１つ目の数字は？：\"))\n",
    "b = float(input (\"2つ目の数字は？：\"))\n",
    "c = int(input (\"足すなら0、引くなら1、かけるなら2、割るなら3　を入力して。\"))\n",
    "# 和の式\n",
    "add = lambda a, b:a + b\n",
    "# 差の式\n",
    "sub = lambda a, b:a - b\n",
    "# 積の式\n",
    "mul = lambda a, b:a * b\n",
    "# 商の式\n",
    "div = lambda a, b:a / b\n",
    "# リスト化して数値で式を呼び出す。0が和、１が差、２が積、３が商\n",
    "num_D = [add, sub, mul, div];\n",
    "if c == 0:\n",
    "        print(num_D[0](a, b))\n",
    "elif c ==1:\n",
    "        print(num_D[1](a, b))\n",
    "elif c ==2:\n",
    "        print(num_D[2](a, b))\n",
    "elif c ==3:\n",
    "    # ０で割ったときは計算させない\n",
    "    if b == 0:\n",
    "        print(\"それはあかん\")\n",
    "    else:\n",
    "        print(num_D[3](a, b))\n",
    "else:\n",
    "    # 4以上はこの文を出力\n",
    "        print(\"もっかい日本語見て、どうぞ\")"
   ]
  },
  {
   "cell_type": "code",
   "execution_count": null,
   "metadata": {
    "collapsed": true
   },
   "outputs": [],
   "source": []
  }
 ],
 "metadata": {
  "kernelspec": {
   "display_name": "Python 3",
   "language": "python",
   "name": "python3"
  },
  "language_info": {
   "codemirror_mode": {
    "name": "ipython",
    "version": 3
   },
   "file_extension": ".py",
   "mimetype": "text/x-python",
   "name": "python",
   "nbconvert_exporter": "python",
   "pygments_lexer": "ipython3",
   "version": "3.6.0"
  }
 },
 "nbformat": 4,
 "nbformat_minor": 2
}
