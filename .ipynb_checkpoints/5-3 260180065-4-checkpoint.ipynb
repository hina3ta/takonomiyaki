{
 "cells": [
  {
   "cell_type": "code",
   "execution_count": 6,
   "metadata": {
    "collapsed": false
   },
   "outputs": [],
   "source": [
    "data = {\"name\" : \"john\" , \"age\" : 21 , \"score\" : 78}\n",
    "\n",
    "with open(\"data.txt\" , mode = \"w\" , encoding = \"shift-jis\") as f:\n",
    "    for key, value in data.items():\n",
    "        f.write(key)\n",
    "        f.write(\":\")\n",
    "        f.write(str(value) + \"\\n\")"
   ]
  },
  {
   "cell_type": "code",
   "execution_count": 7,
   "metadata": {
    "collapsed": false
   },
   "outputs": [
    {
     "name": "stdout",
     "output_type": "stream",
     "text": [
      "name:john\n",
      "age:21\n",
      "score:78\n",
      "\n"
     ]
    }
   ],
   "source": [
    "f = open(\"data.txt\" , encoding = \"shift-jis\")\n",
    "v = f.read()\n",
    "f.close()\n",
    "print(v)"
   ]
  },
  {
   "cell_type": "code",
   "execution_count": null,
   "metadata": {
    "collapsed": true
   },
   "outputs": [],
   "source": []
  }
 ],
 "metadata": {
  "kernelspec": {
   "display_name": "Python 3",
   "language": "python",
   "name": "python3"
  },
  "language_info": {
   "codemirror_mode": {
    "name": "ipython",
    "version": 3
   },
   "file_extension": ".py",
   "mimetype": "text/x-python",
   "name": "python",
   "nbconvert_exporter": "python",
   "pygments_lexer": "ipython3",
   "version": "3.6.0"
  }
 },
 "nbformat": 4,
 "nbformat_minor": 2
}
