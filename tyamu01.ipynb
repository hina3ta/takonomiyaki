{
 "cells": [
  {
   "cell_type": "code",
   "execution_count": 3,
   "metadata": {
    "collapsed": false
   },
   "outputs": [
    {
     "name": "stdout",
     "output_type": "stream",
     "text": [
      "予定の入力(1)か出力(2)を選択してください:1\n",
      "何日のご予定ですか？(yyyymmdd): 20181213\n"
     ]
    },
    {
     "ename": "FileNotFoundError",
     "evalue": "[Errno 2] No such file or directory: 'exist.txt'",
     "output_type": "error",
     "traceback": [
      "\u001b[0;31m---------------------------------------------------------------------------\u001b[0m",
      "\u001b[0;31mFileNotFoundError\u001b[0m                         Traceback (most recent call last)",
      "\u001b[0;32m<ipython-input-3-c61b788a5f0a>\u001b[0m in \u001b[0;36m<module>\u001b[0;34m()\u001b[0m\n\u001b[1;32m     11\u001b[0m \u001b[0;34m\u001b[0m\u001b[0m\n\u001b[1;32m     12\u001b[0m \u001b[0;31m# その日付のファイルが存在するか否かの判定\u001b[0m\u001b[0;34m\u001b[0m\u001b[0;34m\u001b[0m\u001b[0m\n\u001b[0;32m---> 13\u001b[0;31m     \u001b[0mfin\u001b[0m \u001b[0;34m=\u001b[0m \u001b[0mopen\u001b[0m\u001b[0;34m(\u001b[0m\u001b[0;34m'exist.txt'\u001b[0m\u001b[0;34m,\u001b[0m \u001b[0;34m'r'\u001b[0m\u001b[0;34m)\u001b[0m\u001b[0;34m\u001b[0m\u001b[0m\n\u001b[0m\u001b[1;32m     14\u001b[0m     \u001b[0mstrs\u001b[0m \u001b[0;34m=\u001b[0m \u001b[0mfin\u001b[0m\u001b[0;34m.\u001b[0m\u001b[0mreadlines\u001b[0m\u001b[0;34m(\u001b[0m\u001b[0;34m)\u001b[0m\u001b[0;34m\u001b[0m\u001b[0m\n\u001b[1;32m     15\u001b[0m     \u001b[0;32mfor\u001b[0m \u001b[0mi\u001b[0m \u001b[0;32min\u001b[0m \u001b[0mstrs\u001b[0m\u001b[0;34m:\u001b[0m\u001b[0;34m\u001b[0m\u001b[0m\n",
      "\u001b[0;31mFileNotFoundError\u001b[0m: [Errno 2] No such file or directory: 'exist.txt'"
     ]
    }
   ],
   "source": [
    "# coding: shift_jis\n",
    "\n",
    "command = int(input(\"予定の入力(1)か出力(2)を選択してください:\"))\n",
    "\n",
    "if command != 1 and command != 2:\n",
    "    print(\"正しい操作をしてください。\")\n",
    "\n",
    "elif command == 1:\n",
    "# 日付の読み込み\n",
    "    date = input(\"何日のご予定ですか？(yyyymmdd): \")\n",
    "\n",
    "# その日付のファイルが存在するか否かの判定\n",
    "    fin = open('exist.txt', 'r')\n",
    "    strs = fin.readlines()\n",
    "    for i in strs:\n",
    "        if date == i:\n",
    "        # 予定内容の追加書き込み\n",
    "            fout = open(str(date) + 'txt', 'a')\n",
    "            print(\"どういったご予定ですか？内容を教えてください。\")\n",
    "            text = input()\n",
    "            fout.write(text)\n",
    "            fout.close()\n",
    "        else:\n",
    "        # 日付のデータを残しておく\n",
    "            fout = open('exist.txt', 'a')\n",
    "            fout.write('date \\n')\n",
    "            fout.close()\n",
    "\n",
    "            # 予定内容の新規書き込み\n",
    "            fout = open(str(date) + '.txt', 'w')\n",
    "            print(\"どういったご予定ですか？内容を教えてください。\")\n",
    "            text = input()\n",
    "            fout.write(text)\n",
    "            fout.close()\n",
    "\n",
    "elif command == 2:\n",
    "    print(\"何日のご予定ですか？(yyyymmdd)\")\n",
    "    date = input()\n",
    "\n",
    "    fout = open(str(date) + '.txt', 'r')\n",
    "    s = fout.readline()\n",
    "    print(s)\n",
    "    fout.close()"
   ]
  },
  {
   "cell_type": "code",
   "execution_count": null,
   "metadata": {
    "collapsed": true
   },
   "outputs": [],
   "source": []
  }
 ],
 "metadata": {
  "kernelspec": {
   "display_name": "Python 3",
   "language": "python",
   "name": "python3"
  },
  "language_info": {
   "codemirror_mode": {
    "name": "ipython",
    "version": 3
   },
   "file_extension": ".py",
   "mimetype": "text/x-python",
   "name": "python",
   "nbconvert_exporter": "python",
   "pygments_lexer": "ipython3",
   "version": "3.6.0"
  }
 },
 "nbformat": 4,
 "nbformat_minor": 2
}
